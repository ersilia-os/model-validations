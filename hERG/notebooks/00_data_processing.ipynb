{
 "cells": [
  {
   "cell_type": "code",
   "execution_count": 34,
   "metadata": {},
   "outputs": [],
   "source": [
    "import os\n",
    "import sys\n",
    "import pandas as pd\n",
    "from rdkit import Chem\n",
    "# Add the src directory to the system path\n",
    "sys.path.append(os.path.abspath(\"../../src\"))\n",
    "\n",
    "\n",
    "DATAPATH = \"../data\"\n",
    "SRC= \"../../src\"\n",
    "SMICOL = \"smiles\"\n",
    "INCHICOL = \"inchikey\"\n",
    "ACTCOL = \"activity\""
   ]
  },
  {
   "cell_type": "code",
   "execution_count": 35,
   "metadata": {},
   "outputs": [],
   "source": [
    "from process_inchikeys import preprocess_eos_data"
   ]
  },
  {
   "cell_type": "markdown",
   "metadata": {},
   "source": [
    "# Compare Model Training datasets\n",
    "\n",
    "First, we clean up the original files and add the InChiKey of the smiles if not available. We want to create a dataframe with three columns, smiles, inchikey and activity. We will store each dataset under data/model_datasets/{model_name}_processed.csv"
   ]
  },
  {
   "cell_type": "code",
   "execution_count": 47,
   "metadata": {},
   "outputs": [
    {
     "name": "stdout",
     "output_type": "stream",
     "text": [
      "Inside preprocess_eos_data function...\n"
     ]
    },
    {
     "name": "stderr",
     "output_type": "stream",
     "text": [
      "[16:54:51] non-ring atom 10 marked aromatic\n",
      "[16:54:51] non-ring atom 12 marked aromatic\n",
      "[16:54:51] non-ring atom 10 marked aromatic\n",
      "[16:54:51] non-ring atom 14 marked aromatic\n",
      "[16:54:52] non-ring atom 10 marked aromatic\n",
      "[16:54:52] non-ring atom 10 marked aromatic\n",
      "[16:54:52] non-ring atom 10 marked aromatic\n",
      "[16:54:52] non-ring atom 21 marked aromatic\n",
      "[16:54:52] non-ring atom 10 marked aromatic\n",
      "[16:54:52] non-ring atom 10 marked aromatic\n",
      "[16:54:52] non-ring atom 12 marked aromatic\n",
      "[16:54:52] non-ring atom 12 marked aromatic\n",
      "[16:54:53] Explicit valence for atom # 0 N, 4, is greater than permitted\n",
      "[16:54:53] Explicit valence for atom # 0 N, 4, is greater than permitted\n",
      "[16:54:54] Explicit valence for atom # 0 N, 4, is greater than permitted\n",
      "[16:54:54] Explicit valence for atom # 0 N, 4, is greater than permitted\n",
      "[16:54:54] Explicit valence for atom # 0 N, 4, is greater than permitted\n",
      "[16:54:54] Explicit valence for atom # 0 N, 4, is greater than permitted\n",
      "[16:54:54] Explicit valence for atom # 0 N, 4, is greater than permitted\n",
      "[16:54:54] Explicit valence for atom # 0 N, 4, is greater than permitted\n",
      "[16:54:54] Explicit valence for atom # 0 N, 4, is greater than permitted\n",
      "[16:54:54] Explicit valence for atom # 0 N, 4, is greater than permitted\n",
      "[16:54:54] Explicit valence for atom # 0 N, 4, is greater than permitted\n",
      "[16:54:54] Explicit valence for atom # 0 N, 4, is greater than permitted\n",
      "[16:54:54] Explicit valence for atom # 0 N, 4, is greater than permitted\n",
      "[16:54:54] Explicit valence for atom # 0 N, 4, is greater than permitted\n",
      "[16:54:54] Explicit valence for atom # 0 N, 4, is greater than permitted\n",
      "[16:54:54] Explicit valence for atom # 0 N, 4, is greater than permitted\n",
      "[16:54:54] Explicit valence for atom # 0 N, 4, is greater than permitted\n",
      "[16:54:54] Explicit valence for atom # 0 N, 4, is greater than permitted\n",
      "[16:54:55] Explicit valence for atom # 0 N, 5, is greater than permitted\n",
      "[16:54:55] Explicit valence for atom # 0 N, 5, is greater than permitted\n",
      "[16:54:55] Explicit valence for atom # 0 N, 5, is greater than permitted\n",
      "[16:54:55] Explicit valence for atom # 0 N, 5, is greater than permitted\n",
      "[16:54:55] Explicit valence for atom # 0 N, 5, is greater than permitted\n",
      "[16:54:55] Explicit valence for atom # 0 N, 5, is greater than permitted\n",
      "[16:54:56] non-ring atom 11 marked aromatic\n",
      "[16:54:56] non-ring atom 13 marked aromatic\n",
      "[16:54:56] non-ring atom 10 marked aromatic\n",
      "[16:54:56] non-ring atom 10 marked aromatic\n",
      "[16:54:56] non-ring atom 11 marked aromatic\n",
      "[16:54:56] non-ring atom 10 marked aromatic\n",
      "[16:54:56] non-ring atom 10 marked aromatic\n",
      "[16:54:56] non-ring atom 9 marked aromatic\n",
      "[16:54:56] non-ring atom 21 marked aromatic\n",
      "[16:54:56] non-ring atom 10 marked aromatic\n",
      "[16:54:56] non-ring atom 10 marked aromatic\n",
      "[16:54:56] non-ring atom 13 marked aromatic\n",
      "[16:54:56] non-ring atom 10 marked aromatic\n"
     ]
    }
   ],
   "source": [
    "#eos30gr\n",
    "train_data = pd.read_excel(os.path.join(DATAPATH, \"model_datasets\", \"eos30gr.xlsx\"), sheet_name=0)\n",
    "test_data = pd.read_excel(os.path.join(DATAPATH, \"model_datasets\", \"eos30gr.xlsx\"), sheet_name=1)\n",
    "valid_data = pd.read_excel(os.path.join(DATAPATH, \"model_datasets\", \"eos30gr.xlsx\"), sheet_name=2)\n",
    "eos30gr = pd.concat([train_data, test_data, valid_data])\n",
    "\n",
    "# Load your EOS data into a pandas DataFrame (eos_df)\n",
    "eos_df = eos30gr\n",
    "# Call preprocess_eos_data function to process the data\n",
    "processed_eos_df = preprocess_eos_data(eos_df)\n",
    "# Save the processed DataFrame to a CSV file\n",
    "processed_eos_df.to_csv(os.path.join(DATAPATH, \"model_datasets\", \"eos30gr_processed.csv\"), index=False)\n"
   ]
  },
  {
   "cell_type": "code",
   "execution_count": 42,
   "metadata": {},
   "outputs": [
    {
     "name": "stderr",
     "output_type": "stream",
     "text": [
      "/tmp/ipykernel_575496/2129466774.py:3: DtypeWarning: Columns (118,119,120,124,125,126,130,131,132,136,137,138,142,143,144,148,149,150,154,155,156,160,161,162,166,167,168,172,173,174,268,269,270,274,275,276,280,281,282,286,287,288,292,293,294,298,299,300,304,305,306,310,311,312,316,317,318,322,323,324,327,328,329,332,333,334,337,338,339,342,343,344,347,348,349,352,353,354,357,358,359,362,363,364,367,368,369,372,373,374,377,378,379,382,383,384,387,388,389,392,393,394,397,398,399,402,403,404,407,408,409,412,413,414,417,418,419,422,423,424,480,481,482,483,493,494,495,496,720) have mixed types. Specify dtype option on import or set low_memory=False.\n",
      "  train_data = pd.read_csv(os.path.join(DATAPATH, \"model_datasets\",\"eos2ta5\", \"train_validation_cardio_tox_data.csv\"))\n"
     ]
    },
    {
     "name": "stdout",
     "output_type": "stream",
     "text": [
      "Inside preprocess_eos_data function...\n"
     ]
    },
    {
     "name": "stderr",
     "output_type": "stream",
     "text": [
      "/home/leila/model-validations/src/process_inchikeys.py:17: PerformanceWarning: DataFrame is highly fragmented.  This is usually the result of calling `frame.insert` many times, which has poor performance.  Consider joining all columns at once using pd.concat(axis=1) instead. To get a de-fragmented frame, use `newframe = frame.copy()`\n",
      "  # Drop rows with missing InChI Keys\n"
     ]
    }
   ],
   "source": [
    "#eos2ta5\n",
    "\n",
    "train_data = pd.read_csv(os.path.join(DATAPATH, \"model_datasets\",\"eos2ta5\", \"train_validation_cardio_tox_data.csv\"))\n",
    "test_data = pd.read_csv(os.path.join(DATAPATH, \"model_datasets\", \"eos2ta5\", 'external_test_set_neg.csv'))\n",
    "test_data2 = pd.read_csv(os.path.join(DATAPATH, \"model_datasets\", \"eos2ta5\", 'external_test_set_new.csv'))\n",
    "test_data3 = pd.read_csv(os.path.join(DATAPATH, \"model_datasets\", \"eos2ta5\", 'external_test_set_pos.csv'))\n",
    "\n",
    "eos2ta5 = pd.concat([train_data, test_data,test_data2, test_data3])\n",
    "\n",
    "# Load your EOS data into a pandas DataFrame (eos_df)\n",
    "eos_df = eos2ta5\n",
    "\n",
    "# Call preprocess_eos_data function to process the data\n",
    "processed_eos_df = preprocess_eos_data(eos_df, 'smiles', 'ACTIVITY')\n",
    "\n",
    "# Save the processed DataFrame to a CSV file\n",
    "processed_eos_df.to_csv(os.path.join(DATAPATH, \"model_datasets\", \"eos2ta5_processed.csv\"), index=False)"
   ]
  },
  {
   "cell_type": "code",
   "execution_count": 44,
   "metadata": {},
   "outputs": [
    {
     "name": "stdout",
     "output_type": "stream",
     "text": [
      "Inside preprocess_eos_data function...\n"
     ]
    }
   ],
   "source": [
    "#eos4tcc\n",
    "finetuning_data = pd.read_csv(os.path.join(DATAPATH, \"model_datasets\", \"eos4tcc\", \"finetuning_eos4tcc\", \"test_all.csv\"))\n",
    "finetuning_data2 = pd.read_csv(os.path.join(DATAPATH, \"model_datasets\", \"eos4tcc\", \"finetuning_eos4tcc\", \"test_rev.csv\"))\n",
    "finetuning_data3 = pd.read_csv(os.path.join(DATAPATH, \"model_datasets\", \"eos4tcc\", \"finetuning_eos4tcc\", \"training.csv\"))\n",
    "finetuning_data4 = pd.read_csv(os.path.join(DATAPATH, \"model_datasets\",\"eos4tcc\", \"finetuning_eos4tcc\", \"val_all.csv\"))\n",
    "finetuning_data5 = pd.read_csv(os.path.join(DATAPATH, \"model_datasets\",\"eos4tcc\", \"finetuning_eos4tcc\", \"val_rev.csv\"))\n",
    "eos4tcc = pd.concat([finetuning_data, finetuning_data2,finetuning_data3,finetuning_data4,finetuning_data5 ])\n",
    "# Load your EOS data into a pandas DataFrame (eos_df)\n",
    "eos_df = eos4tcc\n",
    "# Call preprocess_eos_data function to process the data\n",
    "processed_eos_df = preprocess_eos_data(eos_df, 'smiles', 'label')\n",
    "# Save the processed DataFrame to a CSV file\n",
    "processed_eos_df.to_csv(os.path.join(DATAPATH, \"model_datasets\", \"eos4tcc_processed.csv\"), index=False)"
   ]
  },
  {
   "cell_type": "code",
   "execution_count": 45,
   "metadata": {
    "scrolled": true
   },
   "outputs": [
    {
     "name": "stdout",
     "output_type": "stream",
     "text": [
      "Inside preprocess_eos_data function...\n"
     ]
    }
   ],
   "source": [
    "# eos30f3\n",
    "train_data = pd.read_csv(os.path.join(DATAPATH, \"model_datasets\",\"eos30f3\", \"Cai_TableS3_fixed.csv\"))\n",
    "\n",
    "# Concatenating Data\n",
    "eos30f3 = pd.concat([train_data])\n",
    "\n",
    "# Load your EOS data into a pandas DataFrame (eos_df)\n",
    "eos_df = eos30f3\n",
    "\n",
    "# Call preprocess_eos_data function to process the data\n",
    "processed_eos_df = preprocess_eos_data(eos_df, 'smiles', 'X10')\n",
    "\n",
    "# Save the processed DataFrame to a CSV file\n",
    "processed_eos_df.to_csv(os.path.join(DATAPATH, \"model_datasets\", \"eos30f3_processed.csv\"), index=False)"
   ]
  },
  {
   "cell_type": "markdown",
   "metadata": {},
   "source": [
    "Once all the datasets have been cleaned, we can compare them"
   ]
  },
  {
   "cell_type": "code",
   "execution_count": 52,
   "metadata": {
    "scrolled": true
   },
   "outputs": [
    {
     "name": "stdout",
     "output_type": "stream",
     "text": [
      "eos2ta5:\n",
      "ACTCOL\n",
      "0    6727\n",
      "1    6718\n",
      "Name: count, dtype: int64\n",
      "\n",
      "eos4tcc:\n",
      "ACTCOL\n",
      "1    9284\n",
      "0    6487\n",
      "Name: count, dtype: int64\n",
      "\n",
      "eos30f3:\n",
      "ACTCOL\n",
      "1    4355\n",
      "0    3534\n",
      "Name: count, dtype: int64\n",
      "\n",
      "eos30gr:\n",
      "ACTCOL\n",
      "1.0    4332\n",
      "0.0    3526\n",
      "Name: count, dtype: int64\n",
      "Number of repeated inchikeys in eos2ta5: 178\n",
      "Number of repeated inchikeys in eos4tcc: 1726\n",
      "Number of repeated inchikeys in eos30f3: 455\n",
      "Number of repeated inchikeys in eos30gr: 5573\n",
      "Number of repeated inchikeys between eos2ta5 and eos4tcc: 12780\n",
      "Number of repeated inchikeys between eos2ta5 and eos30f3: 7702\n",
      "Number of repeated inchikeys between eos2ta5 and eos30gr: 12797\n",
      "Number of repeated inchikeys between eos4tcc and eos30f3: 9267\n",
      "Number of repeated inchikeys between eos4tcc and eos30gr: 14362\n",
      "Number of repeated inchikeys between eos30f3 and eos30gr: 13433\n"
     ]
    }
   ],
   "source": [
    "models = [\"eos2ta5\", \"eos4tcc\", \"eos30f3\", \"eos30gr\"]\n",
    "\n",
    "# load the datasets and make comparisons\n",
    "eos2ta5 = pd.read_csv(os.path.join(DATAPATH, \"model_datasets\",\"eos2ta5_processed.csv\"))\n",
    "eos4tcc = pd.read_csv(os.path.join(DATAPATH, \"model_datasets\",\"eos4tcc_processed.csv\"))\n",
    "eos30f3 = pd.read_csv(os.path.join(DATAPATH, \"model_datasets\",\"eos30f3_processed.csv\"))\n",
    "eos30gr = pd.read_csv(os.path.join(DATAPATH, \"model_datasets\",\"eos30gr_processed.csv\"))\n",
    "\n",
    "# proportion of actives and inactives in each dataset\n",
    "print(\"eos2ta5:\")\n",
    "print(eos2ta5['ACTCOL'].value_counts())\n",
    "\n",
    "print(\"\\neos4tcc:\")\n",
    "print(eos4tcc['ACTCOL'].value_counts())\n",
    "\n",
    "print(\"\\neos30f3:\")\n",
    "print(eos30f3['ACTCOL'].value_counts())\n",
    "\n",
    "print(\"\\neos30gr:\")\n",
    "print(eos30gr['ACTCOL'].value_counts())\n",
    "\n",
    "# number of repeated smiles between models\n",
    "# Check repeated smiles within each dataset\n",
    "repeated_inchikey_eos2ta5 = eos2ta5['InChIKey'].duplicated().sum()\n",
    "repeated_inchikey_eos4tcc = eos4tcc['InChIKey'].duplicated().sum()\n",
    "repeated_inchikey_eos30f3 = eos30f3['InChIKey'].duplicated().sum()\n",
    "repeated_inchikey_eos30gr = eos30gr['InChIKey'].duplicated().sum()\n",
    "\n",
    "# Print the results\n",
    "print(f\"Number of repeated inchikeys in eos2ta5: {repeated_inchikey_eos2ta5}\")\n",
    "print(f\"Number of repeated inchikeys in eos4tcc: {repeated_inchikey_eos4tcc}\")\n",
    "print(f\"Number of repeated inchikeys in eos30f3: {repeated_inchikey_eos30f3}\")\n",
    "print(f\"Number of repeated inchikeys in eos30gr: {repeated_inchikey_eos30gr}\")\n",
    "\n",
    "\n",
    "\n",
    "# Check repeated inchikey between pairs of datasets\n",
    "repeated_smiles_eos2ta5_eos4tcc = pd.concat([eos2ta5['InChIKey'], eos4tcc['InChIKey']]).duplicated().sum()\n",
    "repeated_smiles_eos2ta5_eos30f3 = pd.concat([eos2ta5['InChIKey'], eos30f3['InChIKey']]).duplicated().sum()\n",
    "repeated_smiles_eos2ta5_eos30gr = pd.concat([eos2ta5['InChIKey'], eos30gr['InChIKey']]).duplicated().sum()\n",
    "repeated_smiles_eos4tcc_eos30f3 = pd.concat([eos4tcc['InChIKey'], eos30f3['InChIKey']]).duplicated().sum()\n",
    "repeated_smiles_eos4tcc_eos30gr = pd.concat([eos4tcc['InChIKey'], eos30gr['InChIKey']]).duplicated().sum()\n",
    "repeated_smiles_eos30f3_eos30gr = pd.concat([eos30f3['InChIKey'], eos30gr['InChIKey']]).duplicated().sum()\n",
    "\n",
    "# Print the results\n",
    "print(f\"Number of repeated inchikeys between eos2ta5 and eos4tcc: {repeated_smiles_eos2ta5_eos4tcc}\")\n",
    "print(f\"Number of repeated inchikeys between eos2ta5 and eos30f3: {repeated_smiles_eos2ta5_eos30f3}\")\n",
    "print(f\"Number of repeated inchikeys between eos2ta5 and eos30gr: {repeated_smiles_eos2ta5_eos30gr}\")\n",
    "print(f\"Number of repeated inchikeys between eos4tcc and eos30f3: {repeated_smiles_eos4tcc_eos30f3}\")\n",
    "print(f\"Number of repeated inchikeys between eos4tcc and eos30gr: {repeated_smiles_eos4tcc_eos30gr}\")\n",
    "print(f\"Number of repeated inchikeys between eos30f3 and eos30gr: {repeated_smiles_eos30f3_eos30gr}\")"
   ]
  },
  {
   "cell_type": "code",
   "execution_count": 54,
   "metadata": {},
   "outputs": [
    {
     "name": "stdout",
     "output_type": "stream",
     "text": [
      "Percentage overlap for ../data/model_datasets/eos2ta5_processed.csv with all models: 50.98%\n",
      "Percentage overlap for ../data/model_datasets/eos30f3_processed.csv with all models: 86.88%\n",
      "Percentage overlap for ../data/model_datasets/eos4tcc_processed.csv with all models: 43.46%\n",
      "Percentage overlap for ../data/model_datasets/eos30gr_processed.csv with all models: 52.81%\n",
      "Percentage overlap between ../data/model_datasets/eos2ta5_processed.csv and ../data/model_datasets/eos30f3_processed.csv: 89.61%\n",
      "Percentage overlap between ../data/model_datasets/eos2ta5_processed.csv and ../data/model_datasets/eos4tcc_processed.csv: 80.89%\n",
      "Percentage overlap between ../data/model_datasets/eos2ta5_processed.csv and ../data/model_datasets/eos30gr_processed.csv: 54.29%\n",
      "Percentage overlap between ../data/model_datasets/eos30f3_processed.csv and ../data/model_datasets/eos4tcc_processed.csv: 89.82%\n",
      "Percentage overlap between ../data/model_datasets/eos30f3_processed.csv and ../data/model_datasets/eos30gr_processed.csv: 93.86%\n",
      "Percentage overlap between ../data/model_datasets/eos4tcc_processed.csv and ../data/model_datasets/eos30gr_processed.csv: 54.42%\n"
     ]
    }
   ],
   "source": [
    "# Define the dataset paths\n",
    "datasets = [\n",
    "    {'path': '../data/model_datasets/eos2ta5_processed.csv'},\n",
    "    {'path': '../data/model_datasets/eos30f3_processed.csv'},\n",
    "    {'path': '../data/model_datasets/eos4tcc_processed.csv'},\n",
    "    {'path': '../data/model_datasets/eos30gr_processed.csv'}\n",
    "]\n",
    "\n",
    "# Read datasets into a list of DataFrames\n",
    "dfs = [pd.read_csv(dataset['path']) for dataset in datasets]\n",
    "\n",
    "# Dictionary to store the results\n",
    "overlap_results = {}\n",
    "\n",
    "# Method 1: Get inchi keys common to ALL the models' datasets\n",
    "common_keys = set.intersection(*(set(df['InChIKey']) for df in dfs))\n",
    "total_common_molecules = len(common_keys)\n",
    "\n",
    "for i, df in enumerate(dfs):\n",
    "    total_molecules = len(df)\n",
    "    percentage_overlap = (total_common_molecules / total_molecules) * 100\n",
    "    overlap_results[f\"Percentage overlap for {datasets[i]['path']} with all models\"] = percentage_overlap\n",
    "\n",
    "# Method 2: Pairwise percentage overlap\n",
    "for i in range(len(dfs)):\n",
    "    for j in range(i + 1, len(dfs)):\n",
    "        common_keys_pairwise = set.intersection(set(dfs[i]['InChIKey']), set(dfs[j]['InChIKey']))\n",
    "        total_molecules_i = len(dfs[i])\n",
    "        total_molecules_j = len(dfs[j])\n",
    "        percentage_overlap_pairwise = (len(common_keys_pairwise) / min(total_molecules_i, total_molecules_j)) * 100\n",
    "        overlap_results[f\"Percentage overlap between {datasets[i]['path']} and {datasets[j]['path']}\"] = percentage_overlap_pairwise\n",
    "\n",
    "# Display the results\n",
    "for key, value in overlap_results.items():\n",
    "    print(f\"{key}: {value:.2f}%\")\n"
   ]
  },
  {
   "cell_type": "markdown",
   "metadata": {},
   "source": [
    "# Build test dataset\n",
    "\n",
    "We collate in a single file the data from the NCATS repository and eliminate any duplicate molecules that exist in the training sets of the models already."
   ]
  },
  {
   "cell_type": "code",
   "execution_count": 55,
   "metadata": {},
   "outputs": [],
   "source": [
    "df1 = pd.read_csv(os.path.join(DATAPATH, \"test_data\", \"training_set_ncats.csv\"))\n",
    "df2 = pd.read_csv(os.path.join(DATAPATH, \"test_data\", \"validation_set_ncats.csv\"))"
   ]
  },
  {
   "cell_type": "code",
   "execution_count": 56,
   "metadata": {},
   "outputs": [
    {
     "data": {
      "text/plain": [
       "Index(['smiles', 'activity', 'source'], dtype='object')"
      ]
     },
     "execution_count": 56,
     "metadata": {},
     "output_type": "execute_result"
    }
   ],
   "source": [
    "df1.columns"
   ]
  },
  {
   "cell_type": "code",
   "execution_count": 58,
   "metadata": {},
   "outputs": [
    {
     "name": "stdout",
     "output_type": "stream",
     "text": [
      "Inside preprocess_eos_data function...\n"
     ]
    }
   ],
   "source": [
    "#merge and remove duplicates. Obtain InChiKeys for all\n",
    "\n",
    "df = pd.concat([df1, df2])\n",
    "# Load your EOS data into a pandas DataFrame (eos_df)\n",
    "eos_df = df\n",
    "# Call preprocess_eos_data function to process the data\n",
    "processed_eos_df = preprocess_eos_data(eos_df, 'smiles', 'activity')\n",
    "# Save the processed DataFrame to a CSV file\n",
    "processed_eos_df.to_csv(os.path.join(DATAPATH, \"test_data\", \"ncats.csv\"), index=False)\n",
    "\n"
   ]
  },
  {
   "cell_type": "code",
   "execution_count": 61,
   "metadata": {
    "scrolled": true
   },
   "outputs": [
    {
     "name": "stdout",
     "output_type": "stream",
     "text": [
      "Number of removed inchikey: 0\n"
     ]
    }
   ],
   "source": [
    "# Now, from the all NCATS data, we eliminate duplicated molecules with training set\n",
    "## concatenate the training set together\n",
    "training_set = pd.concat([eos2ta5, eos4tcc, eos30f3, eos30gr], ignore_index=True)\n",
    "\n",
    "# Save the training set to a CSV file\n",
    "training_set.to_csv(os.path.join(DATAPATH, \"model_datasets\",\"training_set.csv\"), index=False)\n",
    "\n",
    "##Load the test dataset\n",
    "test_dataset= pd.read_csv(os.path.join(DATAPATH, \"test_data\", \"test_dataset.csv\")) \n",
    "\n",
    "# Calculate the number of removed InChiKey\n",
    "initial_inchikey_count = len(test_dataset)\n",
    "processed_test_dataset = test_dataset[~test_dataset['InChiKey'].isin(training_set['InChIKey'])]\n",
    "removed_inchikey_count = initial_inchikey_count - len(processed_test_dataset)\n",
    "\n",
    "# Print the number of removed smiles\n",
    "print(f\"Number of removed inchikey: {removed_inchikey_count}\")\n",
    "\n",
    "# Save the processed test dataset to a file\n",
    "processed_test_dataset.to_csv(os.path.join(DATAPATH, \"test_data\", \"processed_test_dataset.csv\"), index=False)"
   ]
  },
  {
   "cell_type": "code",
   "execution_count": 62,
   "metadata": {},
   "outputs": [
    {
     "name": "stdout",
     "output_type": "stream",
     "text": [
      "Number of common inchikeys between training and test datasets: 0\n",
      "Common inchikey: set()\n"
     ]
    }
   ],
   "source": [
    "## Confirm that the training and test dataset has no Inchikey in common\n",
    "\n",
    "training_set = pd.read_csv(os.path.join(DATAPATH,\"model_datasets\", \"training_set.csv\"))\n",
    "test_set = pd.read_csv(os.path.join(DATAPATH,\"test_data\", \"processed_test_dataset.csv\"))\n",
    "\n",
    "# Check for common inchikeys\n",
    "common_inchikey = set(training_set['InChIKey']).intersection(set(test_set['InChiKey']))\n",
    "\n",
    "# Print the number of common Inchikey\n",
    "print(f\"Number of common inchikeys between training and test datasets: {len(common_inchikey)}\")\n",
    "\n",
    "print(\"Common inchikey:\", common_inchikey)"
   ]
  },
  {
   "cell_type": "code",
   "execution_count": 63,
   "metadata": {},
   "outputs": [],
   "source": [
    "## Using dimensionality reduction and PCA analysis to compare training and test dataset.\n",
    "import os\n",
    "import pandas as pd\n",
    "from rdkit import Chem\n",
    "from rdkit.Chem import AllChem\n",
    "from sklearn.decomposition import PCA\n",
    "from sklearn.preprocessing import StandardScaler\n",
    "import matplotlib.pyplot as plt\n",
    "import numpy as np"
   ]
  },
  {
   "cell_type": "code",
   "execution_count": 64,
   "metadata": {},
   "outputs": [],
   "source": [
    "# Load the training and test dataset\n",
    "training_set = pd.read_csv(os.path.join(DATAPATH,\"model_datasets\", \"training_set.csv\"))\n",
    "test_set = pd.read_csv(os.path.join(DATAPATH,\"test_data\", \"processed_test_dataset.csv\"))"
   ]
  },
  {
   "cell_type": "code",
   "execution_count": 66,
   "metadata": {},
   "outputs": [],
   "source": [
    "## Generate Margan fingerprints using RDkit\n",
    "# Generate fingerprints using RDKit\n",
    "# Generate fingerprints using RDKit\n",
    "def generate_fingerprints(smiles_list):\n",
    "    mol_list = [Chem.MolFromSmiles(smiles) for smiles in smiles_list]\n",
    "    fingerprints = [AllChem.GetMorganFingerprintAsBitVect(m, 2) for m in mol_list]\n",
    "    # Convert bit vector to numpy array\n",
    "    fingerprints_np = np.array([list(fp.ToBitString()) for fp in fingerprints], dtype=int)\n",
    "    return fingerprints_np\n",
    "# Generate fingerprints for training and test sets\n",
    "train_fingerprints = generate_fingerprints(training_set['SMICOL'])\n",
    "test_fingerprints = generate_fingerprints(test_set['smiles'])\n",
    "\n"
   ]
  },
  {
   "cell_type": "code",
   "execution_count": 67,
   "metadata": {},
   "outputs": [],
   "source": [
    "# Combine data\n",
    "all_fingerprints = np.vstack([train_fingerprints, test_fingerprints])\n",
    "\n",
    "# Standardize data\n",
    "scaler = StandardScaler()\n",
    "standardized_data = scaler.fit_transform(all_fingerprints)"
   ]
  },
  {
   "cell_type": "code",
   "execution_count": 68,
   "metadata": {},
   "outputs": [
    {
     "data": {
      "image/png": "[encoded data removed]",
      "text/plain": [
       "<Figure size 640x480 with 1 Axes>"
      ]
     },
     "metadata": {},
     "output_type": "display_data"
    }
   ],
   "source": [
    "# Apply PCA\n",
    "pca = PCA(n_components=2)\n",
    "pca_result = pca.fit_transform(standardized_data)\n",
    "\n",
    "# Split back into training and test PCA results\n",
    "train_pca_result = pca_result[:len(training_set)]\n",
    "test_pca_result = pca_result[len(training_set):]\n",
    "\n",
    "# Plot PCA results\n",
    "plt.scatter(train_pca_result[:, 0], train_pca_result[:, 1], label='Training Data')\n",
    "plt.scatter(test_pca_result[:, 0], test_pca_result[:, 1], label='Test Data')\n",
    "plt.legend()\n",
    "plt.title('PCA Analysis of Training and Test Data')\n",
    "plt.xlabel('Principal Component 1')\n",
    "plt.ylabel('Principal Component 2')\n",
    "plt.show()"
   ]
  }
 ],
 "metadata": {
  "kernelspec": {
   "display_name": "Python 3 (ipykernel)",
   "language": "python",
   "name": "python3"
  },
  "language_info": {
   "codemirror_mode": {
    "name": "ipython",
    "version": 3
   },
   "file_extension": ".py",
   "mimetype": "text/x-python",
   "name": "python",
   "nbconvert_exporter": "python",
   "pygments_lexer": "ipython3",
   "version": "3.11.0"
  }
 },
 "nbformat": 4,
 "nbformat_minor": 4
}
